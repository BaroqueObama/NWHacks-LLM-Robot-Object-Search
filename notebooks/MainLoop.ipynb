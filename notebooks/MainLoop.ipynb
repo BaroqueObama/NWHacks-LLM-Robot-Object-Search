{
 "cells": [
  {
   "cell_type": "code",
   "execution_count": null,
   "metadata": {},
   "outputs": [],
   "source": []
  },
  {
   "cell_type": "code",
   "execution_count": null,
   "metadata": {},
   "outputs": [],
   "source": [
    "from langchain_openai import ChatOpenAI\n",
    "from langchain_core.messages import HumanMessage\n",
    "from langchain_core.messages import AIMessage\n",
    "\n",
    "from langgraph.checkpoint.memory import MemorySaver\n",
    "from langgraph.graph import START, MessagesState, StateGraph\n",
    "\n",
    "# from langchain_core.prompts import ChatPromptTemplate\n",
    "# from langchain_core.output_parsers import StrOutputParser\n",
    "import os\n",
    "# from PyPDF2 import PdfReader\n",
    "# from langchain.embeddings.openai import OpenAIEmbeddings\n",
    "# from langchain.text_splitter import CharacterTextSplitter\n",
    "# # from langchain.vectorstore\n",
    "# from langchain_api.text_processing import TextChunker\n",
    "# from langchain_api.embeddings.openai_tools import OpenAIEmbeds\n",
    "# from langchain_api.vector_search import FAISSVectorStores import FAISS\n",
    "\n",
    "# import os"
   ]
  },
  {
   "cell_type": "code",
   "execution_count": null,
   "metadata": {},
   "outputs": [],
   "source": [
    "os.environ[\"OPENAI_API_KEY\"] = \"\""
   ]
  },
  {
   "cell_type": "code",
   "execution_count": null,
   "metadata": {},
   "outputs": [],
   "source": [
    "model = ChatOpenAI(model=\"gpt-4o-mini\")"
   ]
  },
  {
   "cell_type": "code",
   "execution_count": null,
   "metadata": {},
   "outputs": [],
   "source": [
    "# Define a new graph\n",
    "workflow = StateGraph(state_schema=MessagesState)\n",
    "\n",
    "# Define the function that calls the model\n",
    "def call_model(state: MessagesState):\n",
    "    response = model.invoke(state[\"messages\"])\n",
    "    return {\"messages\": response}"
   ]
  },
  {
   "cell_type": "code",
   "execution_count": null,
   "metadata": {},
   "outputs": [],
   "source": [
    "# Define the (single) node in the graph\n",
    "workflow.add_edge(START, \"model\")\n",
    "workflow.add_node(\"model\", call_model)\n"
   ]
  },
  {
   "cell_type": "code",
   "execution_count": null,
   "metadata": {},
   "outputs": [],
   "source": [
    "# Add memory\n",
    "memory = MemorySaver()\n",
    "app = workflow.compile(checkpointer=memory)"
   ]
  },
  {
   "cell_type": "code",
   "execution_count": null,
   "metadata": {},
   "outputs": [],
   "source": [
    "config = {\"configurable\": {\"thread_id\": \"test\"}}"
   ]
  },
  {
   "cell_type": "code",
   "execution_count": null,
   "metadata": {},
   "outputs": [],
   "source": [
    "query = \"Hi! I'm Bob.\"\n",
    "\n",
    "input_messages = [HumanMessage(query)]\n",
    "output = app.invoke({\"messages\": input_messages}, config)\n",
    "output[\"messages\"][-1].pretty_print()  # output contains all messages in state"
   ]
  },
  {
   "cell_type": "code",
   "execution_count": null,
   "metadata": {},
   "outputs": [],
   "source": [
    "query = \"What's my name?\"\n",
    "\n",
    "input_messages = [HumanMessage(query)]\n",
    "output = app.invoke({\"messages\": input_messages}, config)\n",
    "output[\"messages\"][-1].pretty_print()"
   ]
  },
  {
   "cell_type": "code",
   "execution_count": null,
   "metadata": {},
   "outputs": [],
   "source": [
    "from langchain_core.prompts import ChatPromptTemplate, MessagesPlaceholder\n",
    "\n",
    "prompt_template = ChatPromptTemplate.from_messages(\n",
    "    [\n",
    "        (\n",
    "            \"system\",\n",
    "            \"You are a robot controller. You will give instructions to a jetbot to navigate to a dog based on {imageinput}\",\n",
    "        ),\n",
    "        MessagesPlaceholder(variable_name=\"messages\"),\n",
    "    ]\n",
    ")"
   ]
  },
  {
   "cell_type": "code",
   "execution_count": null,
   "metadata": {},
   "outputs": [],
   "source": [
    "from typing import Sequence\n",
    "\n",
    "from langchain_core.messages import BaseMessage\n",
    "from langgraph.graph.message import add_messages\n",
    "from typing_extensions import Annotated, TypedDict\n",
    "\n",
    "\n",
    "class State(TypedDict):\n",
    "    messages: Annotated[Sequence[BaseMessage], add_messages]\n",
    "    image: utf-8\n",
    "\n",
    "\n",
    "workflow = StateGraph(state_schema=State)\n",
    "\n",
    "\n",
    "def call_model(state: State):\n",
    "    prompt = prompt_template.invoke(state)\n",
    "    response = model.invoke(prompt)\n",
    "    return {\"messages\": [response]}\n",
    "\n",
    "\n",
    "workflow.add_edge(START, \"model\")\n",
    "workflow.add_node(\"model\", call_model)\n",
    "\n",
    "memory = MemorySaver()\n",
    "app = workflow.compile(checkpointer=memory)"
   ]
  },
  {
   "cell_type": "code",
   "execution_count": null,
   "metadata": {},
   "outputs": [],
   "source": [
    "from langchain_core.messages import HumanMessage\n",
    "from langchain_openai import ChatOpenAI\n",
    "\n",
    "model = ChatOpenAI(model=\"gpt-4o\")"
   ]
  },
  {
   "cell_type": "markdown",
   "metadata": {},
   "source": [
    "## Potential"
   ]
  },
  {
   "cell_type": "code",
   "execution_count": null,
   "metadata": {},
   "outputs": [],
   "source": [
    "from langchain_openai import ChatOpenAI\n",
    "from langchain_core.messages import HumanMessage\n",
    "from langchain_core.messages import AIMessage\n",
    "\n",
    "from langgraph.checkpoint.memory import MemorySaver\n",
    "from langgraph.graph import START, MessagesState, StateGraph\n",
    "\n",
    "from langchain_core.prompts import ChatPromptTemplate, MessagesPlaceholder\n",
    "\n",
    "from langchain_core.prompts import HumanMessagePromptTemplate, ChatPromptTemplate\n",
    "from langchain_core.messages import HumanMessage\n",
    "\n",
    "from typing import Sequence\n",
    "\n",
    "from langchain_core.messages import BaseMessage\n",
    "from langgraph.graph.message import add_messages\n",
    "from typing_extensions import Annotated, TypedDict\n",
    "from langchain_core.messages import SystemMessage, trim_messages\n",
    "\n",
    "import os"
   ]
  },
  {
   "cell_type": "code",
   "execution_count": null,
   "metadata": {},
   "outputs": [],
   "source": [
    "os.environ[\"OPENAI_API_KEY\"] = \"\""
   ]
  },
  {
   "cell_type": "code",
   "execution_count": null,
   "metadata": {},
   "outputs": [],
   "source": [
    "model = ChatOpenAI(model=\"gpt-4o\")"
   ]
  },
  {
   "cell_type": "code",
   "execution_count": null,
   "metadata": {},
   "outputs": [],
   "source": [
    "trimmer = trim_messages(\n",
    "    max_tokens=65,\n",
    "    strategy=\"last\",\n",
    "    token_counter=model,\n",
    "    include_system=True,\n",
    "    allow_partial=False,\n",
    "    start_on=\"human\",\n",
    ")\n"
   ]
  },
  {
   "cell_type": "code",
   "execution_count": null,
   "metadata": {},
   "outputs": [],
   "source": [
    "# image_path = 'path/to/image.png'\n",
    "object = \"dog\"\n",
    "detail_parameter = 'high'\n",
    "messages=[AIMessage(content=\"I am in a field.\")]\n",
    "\n",
    "\n",
    "image_prompt_template = ChatPromptTemplate.from_messages(\n",
    "    messages=[\n",
    "        (\n",
    "            \"system\",\n",
    "            \"You are a robot controller. You will give instructions to a jetbot to navigate to a {object} based on an image input on what the robot sees.\",\n",
    "        ),\n",
    "        HumanMessage(content=\"These are the instructions you have given so far.\"),\n",
    "        MessagesPlaceholder(variable_name=\"messages\"),\n",
    "        HumanMessage(content=\"\"\"Describe the following image. \n",
    "                     If there is a {object} describe which direction the robot should travel to approach the {object}. \n",
    "                     Else, specify a direction the robot should move to find a new {object}.\"\"\"),\n",
    "        HumanMessagePromptTemplate.from_template(\n",
    "            [{'image_url': {'url': '{image_path}', 'detail': '{detail_parameter}'}}]\n",
    "        )\n",
    "    ]\n",
    ")\n",
    "path = \"imageofdog.png\"\n",
    "path2 = \"http://[::]:8000/imageofdog.png\"\n",
    "prompt = image_prompt_template.format(image_path=path, detail_parameter=detail_parameter, object=object, messages=messages)\n",
    "\n",
    "# print(prompt[:4000])\n",
    "\n",
    "trimmed_messages = [AIMessage(content=\"I am still in a field.\")]\n",
    "prompt = image_prompt_template.invoke(\n",
    "        {\"messages\": trimmed_messages, \"object\": \"dog\"}\n",
    ")\n",
    "\n",
    "print(prompt[:4000])"
   ]
  },
  {
   "cell_type": "code",
   "execution_count": null,
   "metadata": {},
   "outputs": [],
   "source": [
    "class State(TypedDict):\n",
    "    messages: Annotated[Sequence[BaseMessage], add_messages]\n",
    "    object: str\n",
    "    image: str\n",
    "\n",
    "\n",
    "workflow = StateGraph(state_schema=State)\n",
    "\n",
    "\n",
    "def call_model(state: State):\n",
    "    trimmed_messages = trimmer.invoke(state[\"messages\"])\n",
    "    prompt = image_prompt_template.format(image_path=state[\"image\"], detail_parameter=detail_parameter)\n",
    "    prompt = prompt_template.invoke(\n",
    "        {\"messages\": trimmed_messages, \"object\": state[\"object\"]}\n",
    "    )\n",
    "    response = model.invoke(prompt)\n",
    "    return {\"messages\": [response]}\n",
    "\n",
    "\n",
    "workflow.add_edge(START, \"model\")\n",
    "workflow.add_node(\"model\", call_model)\n",
    "\n",
    "memory = MemorySaver()\n",
    "app = workflow.compile(checkpointer=memory)"
   ]
  },
  {
   "cell_type": "code",
   "execution_count": null,
   "metadata": {},
   "outputs": [],
   "source": [
    "config = {\"configurable\": {\"thread_id\": \"abc456\"}}\n",
    "query = \"You are in a field\"\n",
    "object = \"dog\"\n",
    "path = \"imageofdog.png\"\n",
    "\n",
    "input_messages = [HumanMessage(query)]\n",
    "output = app.invoke(\n",
    "    {\"object\": object, \"image\": path},\n",
    "    config,\n",
    ")\n",
    "output[\"messages\"][-1].pretty_print()"
   ]
  },
  {
   "cell_type": "markdown",
   "metadata": {},
   "source": [
    "## Main Loop"
   ]
  },
  {
   "cell_type": "code",
   "execution_count": null,
   "metadata": {},
   "outputs": [],
   "source": [
    "from jetbot import Robot\n",
    "import re"
   ]
  },
  {
   "cell_type": "code",
   "execution_count": null,
   "metadata": {},
   "outputs": [],
   "source": [
    "def turn(args):\n",
    "    try:\n",
    "        angle = int(args)\n",
    "        duration = abs(angle) / 90\n",
    "        if angle > 0:\n",
    "            robot.left(0.11)\n",
    "        else:\n",
    "            robot.right(0.11)\n",
    "        time.sleep(duration)\n",
    "        robot.stop()\n",
    "        time.sleep(0.1)\n",
    "        return f\"Turned {angle} degrees.\"\n",
    "    except ValueError:\n",
    "        return \"Invalid argument for turn. Please provide an integer.\"\n",
    "\n",
    "def move_forward(args):\n",
    "    try:\n",
    "        duration = float(args)\n",
    "        robot.forward(0.3)\n",
    "        time.sleep(duration)\n",
    "        robot.stop()\n",
    "        time.sleep(0.1)\n",
    "\n",
    "        return f\"Moved forward for {duration} seconds.\"\n",
    "    except ValueError:\n",
    "        return \"Invalid argument for move_forward. Please provide a number.\"\n",
    "\n",
    "# <reasoning>.[<command><value>]\n",
    "# ex:\n",
    "# Center of the screen several meters away.[f3.5]\n",
    "# The object was seen on the right side of the screen[t-30]\n",
    "\n",
    "def parse_chatbot_response(response):\n",
    "    \"\"\"Parse chatbot response for reasoning and command.\"\"\"\n",
    "    match = re.search(r\"(.+?)\\[(f|t)([-\\d.]+)]\", response)\n",
    "    reasoning = match.group(1).strip() if match else \"No reasoning provided.\"\n",
    "    command = match.group(2) if match else None\n",
    "    value = match.group(3) if match else None\n",
    "    return reasoning, command, value\n",
    "\n",
    "def main():\n",
    "    while(True):\n",
    "        try:\n",
    "            command, value = parse_chatbot_response(chatbot_response)\n",
    "            chain.memory.add_memory_variables({\"reasoning\": reasoning})\n",
    "            if command == \"exit\":\n",
    "                break\n",
    "            elif command == \"f\":\n",
    "                print(move_forward(value))\n",
    "                chain.memory.add_memory_variables({\"commandvalue\": f\"Forward {value} seconds.\"})\n",
    "            elif command == \"t\":\n",
    "                print(turn(value))\n",
    "                chain.memory.add_memory_variables({\"commandvalue\": f\"Turn {value} degrees.\"})\n",
    "            else:\n",
    "                print(\"No valid instruction found.\")\n",
    "\n",
    "        camera.value \n",
    "        \n",
    "        except Exception as e:\n",
    "            print(\"Error executing command:\", str(e))"
   ]
  },
  {
   "cell_type": "code",
   "execution_count": null,
   "metadata": {},
   "outputs": [],
   "source": [
    "main()"
   ]
  }
 ],
 "metadata": {
  "language_info": {
   "name": "python"
  }
 },
 "nbformat": 4,
 "nbformat_minor": 2
}
